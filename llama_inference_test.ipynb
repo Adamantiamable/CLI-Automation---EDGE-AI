{
 "cells": [
  {
   "cell_type": "markdown",
   "metadata": {},
   "source": [
    "Step 1\n",
    "\n",
    "Peel and chop 4 Golden.\n",
    "\n",
    "Step 2\n",
    "\n",
    "Make a compote: place in a saucepan with a little water (1 glass or 2). Stir well. When the apples begin to soften, add one or one-and-a-half sachets of vanilla sugar. Add a little water if necessary.\n",
    "\n",
    "Step 3\n",
    "You'll know if the compote is ready when the apples are no longer hard at all. It's okay if there are a few chunks left.\n",
    "\n",
    "Step 4\n",
    "\n",
    "While the compote is cooking, peel and quarter the last two apples, then cut the quarters into thin strips (these will be used to place on top of the compote).\n",
    "\n",
    "Translated with DeepL.com (free version)"
   ]
  }
 ],
 "metadata": {
  "kernelspec": {
   "display_name": "venv",
   "language": "python",
   "name": "python3"
  },
  "language_info": {
   "codemirror_mode": {
    "name": "ipython",
    "version": 3
   },
   "file_extension": ".py",
   "mimetype": "text/x-python",
   "name": "python",
   "nbconvert_exporter": "python",
   "pygments_lexer": "ipython3",
   "version": "3.12.3"
  }
 },
 "nbformat": 4,
 "nbformat_minor": 2
}
